{
 "cells": [
  {
   "cell_type": "code",
   "execution_count": 119,
   "id": "0a6769ad",
   "metadata": {},
   "outputs": [],
   "source": [
    "import numpy as np\n",
    "import matplotlib.pyplot as plt\n",
    "from util import *\n",
    "from algorithms import *\n",
    "import scipy\n",
    "from tqdm import tqdm\n",
    "import ot"
   ]
  },
  {
   "cell_type": "markdown",
   "id": "51892baf",
   "metadata": {},
   "source": [
    "# TV l2 denoising results"
   ]
  },
  {
   "cell_type": "code",
   "execution_count": 2,
   "id": "decd26d5",
   "metadata": {},
   "outputs": [
    {
     "ename": "FileNotFoundError",
     "evalue": "[Errno 2] No such file or directory: 'results/1d_ex/grad_subgrad/toy2d/metro/reg_par_1_data_par_4.0_tau_0.0016666666666666668_iter_50000.npy'",
     "output_type": "error",
     "traceback": [
      "\u001b[0;31m---------------------------------------------------------------------------\u001b[0m",
      "\u001b[0;31mFileNotFoundError\u001b[0m                         Traceback (most recent call last)",
      "Input \u001b[0;32mIn [2]\u001b[0m, in \u001b[0;36m<cell line: 1>\u001b[0;34m()\u001b[0m\n\u001b[0;32m----> 1\u001b[0m toy_gt \u001b[38;5;241m=\u001b[39m \u001b[43mnp\u001b[49m\u001b[38;5;241;43m.\u001b[39;49m\u001b[43mload\u001b[49m\u001b[43m(\u001b[49m\u001b[38;5;124;43m'\u001b[39;49m\u001b[38;5;124;43mresults/1d_ex/grad_subgrad/toy2d/metro/reg_par_1_data_par_4.0_tau_0.0016666666666666668_iter_50000.npy\u001b[39;49m\u001b[38;5;124;43m'\u001b[39;49m\u001b[43m)\u001b[49m\n\u001b[1;32m      2\u001b[0m toy \u001b[38;5;241m=\u001b[39m np\u001b[38;5;241m.\u001b[39mload(\u001b[38;5;124m'\u001b[39m\u001b[38;5;124mresults/1d_ex/grad_subgrad/toy2d/reg_par_1_data_par_4.0_tau_0.0016666666666666668_iter_50000.npy\u001b[39m\u001b[38;5;124m'\u001b[39m)\n\u001b[1;32m      3\u001b[0m init \u001b[38;5;241m=\u001b[39m np\u001b[38;5;241m.\u001b[39mload(\u001b[38;5;124m'\u001b[39m\u001b[38;5;124mresults/1d_ex/grad_subgrad/toy2d/reg_par_1_data_par_4.0_tau_0.0016666666666666668_iter_0.npy\u001b[39m\u001b[38;5;124m'\u001b[39m)\n",
      "File \u001b[0;32m/usr/lib/python3.10/site-packages/numpy/lib/npyio.py:407\u001b[0m, in \u001b[0;36mload\u001b[0;34m(file, mmap_mode, allow_pickle, fix_imports, encoding)\u001b[0m\n\u001b[1;32m    405\u001b[0m     own_fid \u001b[38;5;241m=\u001b[39m \u001b[38;5;28;01mFalse\u001b[39;00m\n\u001b[1;32m    406\u001b[0m \u001b[38;5;28;01melse\u001b[39;00m:\n\u001b[0;32m--> 407\u001b[0m     fid \u001b[38;5;241m=\u001b[39m stack\u001b[38;5;241m.\u001b[39menter_context(\u001b[38;5;28;43mopen\u001b[39;49m\u001b[43m(\u001b[49m\u001b[43mos_fspath\u001b[49m\u001b[43m(\u001b[49m\u001b[43mfile\u001b[49m\u001b[43m)\u001b[49m\u001b[43m,\u001b[49m\u001b[43m \u001b[49m\u001b[38;5;124;43m\"\u001b[39;49m\u001b[38;5;124;43mrb\u001b[39;49m\u001b[38;5;124;43m\"\u001b[39;49m\u001b[43m)\u001b[49m)\n\u001b[1;32m    408\u001b[0m     own_fid \u001b[38;5;241m=\u001b[39m \u001b[38;5;28;01mTrue\u001b[39;00m\n\u001b[1;32m    410\u001b[0m \u001b[38;5;66;03m# Code to distinguish from NumPy binary files and pickles.\u001b[39;00m\n",
      "\u001b[0;31mFileNotFoundError\u001b[0m: [Errno 2] No such file or directory: 'results/1d_ex/grad_subgrad/toy2d/metro/reg_par_1_data_par_4.0_tau_0.0016666666666666668_iter_50000.npy'"
     ]
    }
   ],
   "source": [
    "toy_gt = np.load('results/1d_ex/grad_subgrad/toy2d/metro/reg_par_1_data_par_4.0_tau_0.0016666666666666668_iter_50000.npy')\n",
    "toy = np.load('results/1d_ex/grad_subgrad/toy2d/reg_par_1_data_par_4.0_tau_0.0016666666666666668_iter_50000.npy')\n",
    "init = np.load('results/1d_ex/grad_subgrad/toy2d/reg_par_1_data_par_4.0_tau_0.0016666666666666668_iter_0.npy')\n"
   ]
  },
  {
   "cell_type": "code",
   "execution_count": null,
   "id": "7c0dd26c",
   "metadata": {},
   "outputs": [],
   "source": [
    "fig, ax = plt.subplots(1,3,figsize=(15,5))\n",
    "ax[1].plot(toy_gt.mean(axis=-1))\n",
    "ax[2].plot(toy.mean(axis=-1),'b')\n",
    "ax[0].plot(init.mean(axis=-1),'b')\n"
   ]
  },
  {
   "cell_type": "code",
   "execution_count": null,
   "id": "5f077c34",
   "metadata": {},
   "outputs": [],
   "source": [
    "n = toy_gt.shape[-1]\n",
    "a, b = np.ones((n,)) / n, np.ones((n,)) / n\n",
    "M = ot.dist(np.transpose(toy_gt), np.transpose(toy))\n",
    "print(ot.emd2(a, b, M))"
   ]
  },
  {
   "cell_type": "code",
   "execution_count": null,
   "id": "ae866887",
   "metadata": {},
   "outputs": [],
   "source": [
    "step = 5000\n",
    "num = 1//step\n",
    "\n",
    "w2 = np.zeros([2,num])\n",
    "for i in tqdm(range(num)):\n",
    "    x = np.load('results/1d_ex/grad_subgrad/toy2d/reg_par_1_data_par_1.0_tau_0.00041666666666666664_iter_'+str(step*i)+'.npy')\n",
    "    n = x.shape[-1]\n",
    "    a, b = np.ones((n,)) / n, np.ones((n,)) / n\n",
    "    M = ot.dist(np.transpose(x), np.transpose(toy_gt))\n",
    "    w2[0,i] = ot.emd2(a, b, M)\n",
    "    "
   ]
  },
  {
   "cell_type": "code",
   "execution_count": null,
   "id": "1bc2acfe",
   "metadata": {},
   "outputs": [],
   "source": [
    "sigma = 1\n",
    "d = 40\n",
    "reg_par = 1\n",
    "data_par = 1/(sigma**2)\n",
    "eps=1e-1\n",
    "\n",
    "m = data_par\n",
    "L_F = data_par\n",
    "L_G = reg_par*np.sqrt(d)\n",
    "K_nrm = 2\n",
    "\n",
    "tau = (eps*m)/(2*L_F*d + L_G**2*K_nrm**2)\n",
    "print(tau)"
   ]
  },
  {
   "cell_type": "code",
   "execution_count": null,
   "id": "e5f1b54a",
   "metadata": {},
   "outputs": [],
   "source": [
    "rates = np.zeros(num)\n",
    "for i in tqdm(range(num)):\n",
    "    rates[i] = np.power(1-m*tau,step*i)*w2[0,0]+(2*L_F*d + L_G**2*K_nrm**2)*tau/m"
   ]
  },
  {
   "cell_type": "code",
   "execution_count": null,
   "id": "690aff1f",
   "metadata": {},
   "outputs": [],
   "source": [
    "plt.plot(np.log(w2[0,:]),'k')\n",
    "plt.plot(np.log(rates))"
   ]
  },
  {
   "cell_type": "code",
   "execution_count": null,
   "id": "d161edf8",
   "metadata": {},
   "outputs": [],
   "source": [
    "print(w2[0])"
   ]
  },
  {
   "cell_type": "code",
   "execution_count": 112,
   "id": "40f82ad7",
   "metadata": {},
   "outputs": [],
   "source": [
    "toy = np.load('results/1d_ex/grad_subgrad/toy2d/reg_par_1_data_par_0.25_tau_0.00016666666666666666_iter_40000.npy')\n",
    "toy_gt = np.load('results/1d_ex/grad_subgrad/toy2d/metro/reg_par_1_data_par_0.25_tau_0.00016666666666666666_iter_100000.npy')\n"
   ]
  },
  {
   "cell_type": "code",
   "execution_count": 113,
   "id": "42ef691a",
   "metadata": {},
   "outputs": [
    {
     "data": {
      "image/png": "[encoded data removed]",
      "text/plain": [
       "<Figure size 432x288 with 1 Axes>"
      ]
     },
     "metadata": {
      "needs_background": "light"
     },
     "output_type": "display_data"
    }
   ],
   "source": [
    "plt.hist(toy_gt.flatten(),bins=100);"
   ]
  },
  {
   "cell_type": "code",
   "execution_count": 114,
   "id": "4321ea38",
   "metadata": {},
   "outputs": [
    {
     "data": {
      "image/png": "[encoded data removed]",
      "text/plain": [
       "<Figure size 432x288 with 1 Axes>"
      ]
     },
     "metadata": {
      "needs_background": "light"
     },
     "output_type": "display_data"
    }
   ],
   "source": [
    "plt.hist(toy.flatten(),bins=100);"
   ]
  },
  {
   "cell_type": "code",
   "execution_count": 115,
   "id": "bb96c7cf",
   "metadata": {},
   "outputs": [],
   "source": [
    "d=1\n",
    "sigma=2\n",
    "reg_par = 1\n",
    "data_par = 1/(sigma**2)\n",
    "eps = 1e-3\n",
    "m = data_par\n",
    "L_F = data_par\n",
    "L_G = reg_par*np.sqrt(d)\n",
    "K_nrm = 1"
   ]
  },
  {
   "cell_type": "code",
   "execution_count": 116,
   "id": "91efceec",
   "metadata": {},
   "outputs": [
    {
     "name": "stderr",
     "output_type": "stream",
     "text": [
      "100%|█████████████████████████████████████████| 200/200 [00:04<00:00, 47.15it/s]\n"
     ]
    }
   ],
   "source": [
    "step = 500\n",
    "num = 100000//step\n",
    "\n",
    "w2 = np.zeros([num])\n",
    "for i in tqdm(range(num)):\n",
    "    x = np.load('results/1d_ex/grad_subgrad/toy2d/reg_par_1_data_par_0.25_tau_0.00016666666666666666_iter_'+str(step*i)+'.npy')\n",
    "    w2[i] = ot.emd2_1d(x.flatten(), toy_gt.flatten())\n",
    "    "
   ]
  },
  {
   "cell_type": "code",
   "execution_count": 117,
   "id": "06dff767",
   "metadata": {},
   "outputs": [
    {
     "name": "stdout",
     "output_type": "stream",
     "text": [
      "0.00016666666666666666\n"
     ]
    },
    {
     "name": "stderr",
     "output_type": "stream",
     "text": [
      "100%|█████████████████████████████████████| 200/200 [00:00<00:00, 153244.57it/s]\n"
     ]
    }
   ],
   "source": [
    "\n",
    "tau = (eps*m)/(2*L_F*d + L_G**2*K_nrm**2)\n",
    "print(tau)\n",
    "\n",
    "rates = np.zeros(num)\n",
    "for i in tqdm(range(num)):\n",
    "    rates[i] = np.power(1-m*tau,step*i)*w2[0]+(2*L_F*d + L_G**2*K_nrm**2)*tau/m"
   ]
  },
  {
   "cell_type": "code",
   "execution_count": 118,
   "id": "44057577",
   "metadata": {},
   "outputs": [
    {
     "data": {
      "text/plain": [
       "[<matplotlib.lines.Line2D at 0x7fa60b662a40>]"
      ]
     },
     "execution_count": 118,
     "metadata": {},
     "output_type": "execute_result"
    },
    {
     "data": {
      "image/png": "[encoded data removed]",
      "text/plain": [
       "<Figure size 432x288 with 1 Axes>"
      ]
     },
     "metadata": {
      "needs_background": "light"
     },
     "output_type": "display_data"
    }
   ],
   "source": [
    "plt.plot(np.log(w2),'k')\n",
    "plt.plot(np.log(rates))"
   ]
  },
  {
   "cell_type": "code",
   "execution_count": null,
   "id": "d53a22cf",
   "metadata": {},
   "outputs": [],
   "source": []
  }
 ],
 "metadata": {
  "kernelspec": {
   "display_name": "Python 3 (ipykernel)",
   "language": "python",
   "name": "python3"
  },
  "language_info": {
   "codemirror_mode": {
    "name": "ipython",
    "version": 3
   },
   "file_extension": ".py",
   "mimetype": "text/x-python",
   "name": "python",
   "nbconvert_exporter": "python",
   "pygments_lexer": "ipython3",
   "version": "3.9.12"
  }
 },
 "nbformat": 4,
 "nbformat_minor": 5
}
